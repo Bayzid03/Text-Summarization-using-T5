{
  "nbformat": 4,
  "nbformat_minor": 0,
  "metadata": {
    "colab": {
      "provenance": []
    },
    "kernelspec": {
      "name": "python3",
      "display_name": "Python 3"
    },
    "language_info": {
      "name": "python"
    }
  },
  "cells": [
    {
      "cell_type": "code",
      "execution_count": null,
      "metadata": {
        "id": "M4-3FlJ3h2pX"
      },
      "outputs": [],
      "source": [
        "! pip install transformers"
      ]
    },
    {
      "cell_type": "code",
      "source": [
        "!pip install torch"
      ],
      "metadata": {
        "id": "xTuy33ZBi4si"
      },
      "execution_count": null,
      "outputs": []
    },
    {
      "cell_type": "markdown",
      "source": [
        "Loading Pre-trained model and tokenizer"
      ],
      "metadata": {
        "id": "-ZCATwyLiTsd"
      }
    },
    {
      "cell_type": "code",
      "source": [
        "from transformers import T5Tokenizer, T5ForConditionalGeneration\n",
        "import torch\n",
        "\n",
        "model = T5ForConditionalGeneration.from_pretrained(\"t5-small\")\n",
        "tokenizer = T5Tokenizer.from_pretrained(\"t5-small\")\n",
        "device = torch.device('cpu')"
      ],
      "metadata": {
        "id": "limwTfgtiNOf"
      },
      "execution_count": null,
      "outputs": []
    },
    {
      "cell_type": "markdown",
      "source": [
        "Preparing the text for summarization"
      ],
      "metadata": {
        "id": "Y8BxFVU6ku6I"
      }
    },
    {
      "cell_type": "code",
      "source": [
        "text = \"\"\"\n",
        "Text generation is a fascinating area of artificial intelligence that involves creating human-like text based on input prompts. AI models, like those built on deep learning architectures, analyze vast amounts of text data to learn patterns, grammar, and context, enabling them to generate coherent and meaningful text.\n",
        "\n",
        "There are different types of text generation techniques, including:\n",
        "- **Rule-Based Systems**: These rely on predefined templates and patterns to generate text.\n",
        "- **Statistical Models**: They use probability distributions to predict the next word or phrase in a sentence.\n",
        "- **Neural Networks**: Advanced deep learning models, such as transformers like GPT or T5, generate text based on context and learned language patterns.\n",
        "\n",
        "Applications of text generation include writing assistance, chatbots, automated content creation, code generation, and even creative storytelling. As AI continues to evolve, text generation is becoming more sophisticated, enabling machines to produce more natural and context-aware responses.\n",
        "\n",
        "\"\"\"\n",
        "input_text = \"summarize: \" + text"
      ],
      "metadata": {
        "id": "VrWTEMqFjpe5"
      },
      "execution_count": null,
      "outputs": []
    },
    {
      "cell_type": "markdown",
      "source": [
        "Tokenizing the input text"
      ],
      "metadata": {
        "id": "WqjEGqxMk6ir"
      }
    },
    {
      "cell_type": "code",
      "source": [
        "input_ids = tokenizer.encode(input_text,\n",
        "                             return_tensors=\"pt\",\n",
        "                             max_length=512,\n",
        "                             truncation=True)"
      ],
      "metadata": {
        "id": "Blj-LQ2nkjT2"
      },
      "execution_count": null,
      "outputs": []
    },
    {
      "cell_type": "markdown",
      "source": [
        "Generating the summary"
      ],
      "metadata": {
        "id": "U-hqa40GlOs0"
      }
    },
    {
      "cell_type": "code",
      "source": [
        "summary_ids = model.generate(\n",
        "    input_ids,\n",
        "    max_length=50,\n",
        "    num_beams=4,\n",
        "    length_penalty=2.0,\n",
        "    early_stopping=True\n",
        ")"
      ],
      "metadata": {
        "id": "w4xgizHIkstU"
      },
      "execution_count": null,
      "outputs": []
    },
    {
      "cell_type": "markdown",
      "source": [
        "Decoding and Summarizing the summary"
      ],
      "metadata": {
        "id": "S6mNkY0wlkNy"
      }
    },
    {
      "cell_type": "code",
      "source": [
        "summary = tokenizer.decode(summary_ids[0], skip_special_tokens=True)\n",
        "print(\"Summary:\", summary)"
      ],
      "metadata": {
        "colab": {
          "base_uri": "https://localhost:8080/"
        },
        "id": "zYdANaY6lc7T",
        "outputId": "c8488aba-a8c6-499a-e4be-bd1c4b5673de"
      },
      "execution_count": null,
      "outputs": [
        {
          "output_type": "stream",
          "name": "stdout",
          "text": [
            "Summary: AI models analyze vast amounts of text data to learn patterns, grammar, and context, enabling them to generate coherent and meaningful text. rely on predefined templates and patterns to generate text.\n"
          ]
        }
      ]
    }
  ]
}